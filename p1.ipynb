{
  "cells": [
    {
      "cell_type": "markdown",
      "metadata": {
        "id": "view-in-github",
        "colab_type": "text"
      },
      "source": [
        "<a href=\"https://colab.research.google.com/github/sahniaditya007/Crypto-Bot/blob/harshit/p1.ipynb\" target=\"_parent\"><img src=\"https://colab.research.google.com/assets/colab-badge.svg\" alt=\"Open In Colab\"/></a>"
      ]
    },
    {
      "cell_type": "code",
      "execution_count": 1,
      "metadata": {
        "colab": {
          "base_uri": "https://localhost:8080/",
          "height": 383
        },
        "id": "Nb25qrGxDDCf",
        "outputId": "817c7e14-00de-4905-e266-e555b712978c"
      },
      "outputs": [
        {
          "output_type": "error",
          "ename": "ModuleNotFoundError",
          "evalue": "No module named 'binance'",
          "traceback": [
            "\u001b[0;31m---------------------------------------------------------------------------\u001b[0m",
            "\u001b[0;31mModuleNotFoundError\u001b[0m                       Traceback (most recent call last)",
            "\u001b[0;32m<ipython-input-1-8ac5abe78319>\u001b[0m in \u001b[0;36m<cell line: 0>\u001b[0;34m()\u001b[0m\n\u001b[1;32m      2\u001b[0m \u001b[0;32mimport\u001b[0m \u001b[0mpandas\u001b[0m \u001b[0;32mas\u001b[0m \u001b[0mpd\u001b[0m\u001b[0;34m\u001b[0m\u001b[0;34m\u001b[0m\u001b[0m\n\u001b[1;32m      3\u001b[0m \u001b[0;32mimport\u001b[0m \u001b[0mtime\u001b[0m\u001b[0;34m\u001b[0m\u001b[0;34m\u001b[0m\u001b[0m\n\u001b[0;32m----> 4\u001b[0;31m \u001b[0;32mfrom\u001b[0m \u001b[0mbinance\u001b[0m\u001b[0;34m.\u001b[0m\u001b[0mclient\u001b[0m \u001b[0;32mimport\u001b[0m \u001b[0mClient\u001b[0m\u001b[0;34m\u001b[0m\u001b[0;34m\u001b[0m\u001b[0m\n\u001b[0m\u001b[1;32m      5\u001b[0m \u001b[0;32mfrom\u001b[0m \u001b[0msklearn\u001b[0m\u001b[0;34m.\u001b[0m\u001b[0mpreprocessing\u001b[0m \u001b[0;32mimport\u001b[0m \u001b[0mMinMaxScaler\u001b[0m\u001b[0;34m\u001b[0m\u001b[0;34m\u001b[0m\u001b[0m\n\u001b[1;32m      6\u001b[0m \u001b[0;32mimport\u001b[0m \u001b[0mtensorflow\u001b[0m \u001b[0;32mas\u001b[0m \u001b[0mtf\u001b[0m\u001b[0;34m\u001b[0m\u001b[0;34m\u001b[0m\u001b[0m\n",
            "\u001b[0;31mModuleNotFoundError\u001b[0m: No module named 'binance'",
            "",
            "\u001b[0;31m---------------------------------------------------------------------------\u001b[0;32m\nNOTE: If your import is failing due to a missing package, you can\nmanually install dependencies using either !pip or !apt.\n\nTo view examples of installing some common dependencies, click the\n\"Open Examples\" button below.\n\u001b[0;31m---------------------------------------------------------------------------\u001b[0m\n"
          ],
          "errorDetails": {
            "actions": [
              {
                "action": "open_url",
                "actionText": "Open Examples",
                "url": "/notebooks/snippets/importing_libraries.ipynb"
              }
            ]
          }
        }
      ],
      "source": [
        "\n",
        "\n",
        "import numpy as np\n",
        "import pandas as pd\n",
        "import time\n",
        "from binance.client import Client\n",
        "from sklearn.preprocessing import MinMaxScaler\n",
        "import tensorflow as tf\n",
        "from tensorflow.keras.models import Sequential\n",
        "from tensorflow.keras.layers import LSTM, Dense\n",
        "\n",
        "# Binance API Credentials (Replace with your own keys)\n",
        "API_KEY = \"SqQl1AFmjzYiIKvnt1QQoSb8MUn5ussbH1KgkRZiAuHbxCR0SUfeM4SkOHOywU9G\"\n",
        "API_SECRET = \"kIEa5qbDAf1LVHO84orgNPR5ADqx6pJwcPNgFdlvxKIv9r2E7Ibpuhc1M1DTqlSn\"\n",
        "client = Client(API_KEY, API_SECRET)\n",
        "\n",
        "# Function to fetch historical OHLCV data\n",
        "def get_historical_data(symbol='BTCUSDT', interval=Client.KLINE_INTERVAL_1MINUTE, lookback='30 days ago UTC'):\n",
        "    klines = client.get_historical_klines(symbol, interval, lookback)\n",
        "    df = pd.DataFrame(klines, columns=['Open time', 'Open', 'High', 'Low', 'Close', 'Volume', 'Close time', 'Quote asset volume', 'Number of trades', 'Taker buy base asset volume', 'Taker buy quote asset volume', 'Ignore'])\n",
        "    df = df[['Open', 'High', 'Low', 'Close', 'Volume']].astype(float)\n",
        "    return df\n",
        "\n",
        "# Fetch data\n",
        "data = get_historical_data()\n",
        "\n",
        "# Normalize the data\n",
        "scaler = MinMaxScaler()\n",
        "data_scaled = scaler.fit_transform(data)\n",
        "\n",
        "# Function to create time-series sequences\n",
        "def create_sequences(data, time_steps=60):\n",
        "    X, y = [], []\n",
        "    for i in range(len(data) - time_steps):\n",
        "        X.append(data[i:i + time_steps])\n",
        "        y.append(data[i + time_steps, 3])  # Predicting 'Close' price\n",
        "    return np.array(X), np.array(y)\n",
        "\n",
        "# Prepare data\n",
        "TIME_STEPS = 60\n",
        "X, y = create_sequences(data_scaled, TIME_STEPS)\n",
        "X_train, X_test, y_train, y_test = X[:int(0.8*len(X))], X[int(0.8*len(X)):], y[:int(0.8*len(y))], y[int(0.8*len(y)):]\n",
        "\n",
        "# Build LSTM Model\n",
        "def build_model():\n",
        "    model = Sequential([\n",
        "        LSTM(50, return_sequences=True, input_shape=(TIME_STEPS, 5)),\n",
        "        LSTM(50),\n",
        "        Dense(1, activation='linear')\n",
        "    ])\n",
        "    model.compile(optimizer='adam', loss='mse')\n",
        "    return model\n",
        "\n",
        "model = build_model()\n",
        "\n",
        "# Train the model\n",
        "def train_model(model, X_train, y_train, X_test, y_test, epochs=50, batch_size=32):\n",
        "    model.fit(X_train, y_train, epochs=epochs, batch_size=batch_size, validation_data=(X_test, y_test))\n",
        "    return model\n",
        "\n",
        "model = train_model(model, X_train, y_train, X_test, y_test)\n",
        "\n",
        "# Function for real-time prediction\n",
        "def predict_next_close():\n",
        "    latest_data = get_historical_data().values[-TIME_STEPS:]\n",
        "    latest_scaled = scaler.transform(latest_data)\n",
        "    latest_scaled = np.expand_dims(latest_scaled, axis=0)\n",
        "    prediction = model.predict(latest_scaled)\n",
        "    predicted_price = scaler.inverse_transform([[0, 0, 0, prediction[0][0], 0]])[0][3]\n",
        "    return predicted_price\n",
        "\n",
        "# Function for semi-automated trade execution with stop-loss & take-profit\n",
        "def execute_trade(symbol='BTCUSDT', trade_size=0.001, stop_loss_pct=0.02, take_profit_pct=0.05):\n",
        "    predicted_price = predict_next_close()\n",
        "    current_price = float(client.get_symbol_ticker(symbol=symbol)['price'])\n",
        "    stop_loss = current_price * (1 - stop_loss_pct)\n",
        "    take_profit = current_price * (1 + take_profit_pct)\n",
        "\n",
        "    print(f\"Predicted Price: {predicted_price}, Current Price: {current_price}\")\n",
        "    print(f\"Stop-Loss Price: {stop_loss}, Take-Profit Price: {take_profit}\")\n",
        "\n",
        "    decision = input(\"Enter 'BUY' or 'SELL' or 'SKIP': \").strip().upper()\n",
        "\n",
        "    if decision == 'BUY':\n",
        "        order = client.order_market_buy(symbol=symbol, quantity=trade_size)\n",
        "        print(\"Buy Order Executed:\", order)\n",
        "    elif decision == 'SELL':\n",
        "        order = client.order_market_sell(symbol=symbol, quantity=trade_size)\n",
        "        print(\"Sell Order Executed:\", order)\n",
        "    else:\n",
        "        print(\"No trade executed.\")\n",
        "\n",
        "# Function to monitor trade and enforce stop-loss/take-profit\n",
        "def monitor_trade(symbol='BTCUSDT', trade_size=0.001, stop_loss_pct=0.02, take_profit_pct=0.05):\n",
        "    stop_loss = float(client.get_symbol_ticker(symbol=symbol)['price']) * (1 - stop_loss_pct)\n",
        "    take_profit = float(client.get_symbol_ticker(symbol=symbol)['price']) * (1 + take_profit_pct)\n",
        "    while True:\n",
        "        current_price = float(client.get_symbol_ticker(symbol=symbol)['price'])\n",
        "        if current_price <= stop_loss:\n",
        "            print(\"Stop-Loss triggered! Selling position...\")\n",
        "            client.order_market_sell(symbol=symbol, quantity=trade_size)\n",
        "            break\n",
        "        elif current_price >= take_profit:\n",
        "            print(\"Take-Profit reached! Selling position...\")\n",
        "            client.order_market_sell(symbol=symbol, quantity=trade_size)\n",
        "            break\n",
        "        time.sleep(5)\n",
        "\n",
        "# Running real-time prediction & trading loop\n",
        "while True:\n",
        "    execute_trade()\n",
        "    time.sleep(60)  # Wait 1 minute before next execution\n"
      ]
    },
    {
      "cell_type": "code",
      "source": [],
      "metadata": {
        "id": "s_212mG_DI0A"
      },
      "execution_count": null,
      "outputs": []
    }
  ],
  "metadata": {
    "language_info": {
      "name": "python"
    },
    "colab": {
      "provenance": [],
      "include_colab_link": true
    },
    "kernelspec": {
      "name": "python3",
      "display_name": "Python 3"
    }
  },
  "nbformat": 4,
  "nbformat_minor": 0
}