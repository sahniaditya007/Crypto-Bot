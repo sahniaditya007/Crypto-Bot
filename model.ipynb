{
  "cells": [
    {
      "cell_type": "markdown",
      "metadata": {
        "colab_type": "text",
        "id": "view-in-github"
      },
      "source": [
        "<a href=\"https://colab.research.google.com/github/sahniaditya007/Crypto-Bot/blob/main/test.ipynb\" target=\"_parent\"><img src=\"https://colab.research.google.com/assets/colab-badge.svg\" alt=\"Open In Colab\"/></a>"
      ]
    },
    {
      "cell_type": "code",
      "execution_count": 1,
      "metadata": {
        "id": "4nKu9A68bWjn"
      },
      "outputs": [
        {
          "ename": "ModuleNotFoundError",
          "evalue": "No module named 'binance'",
          "output_type": "error",
          "traceback": [
            "\u001b[31m---------------------------------------------------------------------------\u001b[39m",
            "\u001b[31mModuleNotFoundError\u001b[39m                       Traceback (most recent call last)",
            "\u001b[36mCell\u001b[39m\u001b[36m \u001b[39m\u001b[32mIn[1]\u001b[39m\u001b[32m, line 3\u001b[39m\n\u001b[32m      1\u001b[39m \u001b[38;5;28;01mimport\u001b[39;00m\u001b[38;5;250m \u001b[39m\u001b[34;01mnumpy\u001b[39;00m\u001b[38;5;250m \u001b[39m\u001b[38;5;28;01mas\u001b[39;00m\u001b[38;5;250m \u001b[39m\u001b[34;01mnp\u001b[39;00m\n\u001b[32m      2\u001b[39m \u001b[38;5;28;01mimport\u001b[39;00m\u001b[38;5;250m \u001b[39m\u001b[34;01mpandas\u001b[39;00m\u001b[38;5;250m \u001b[39m\u001b[38;5;28;01mas\u001b[39;00m\u001b[38;5;250m \u001b[39m\u001b[34;01mpd\u001b[39;00m\n\u001b[32m----> \u001b[39m\u001b[32m3\u001b[39m \u001b[38;5;28;01mfrom\u001b[39;00m\u001b[38;5;250m \u001b[39m\u001b[34;01mbinance\u001b[39;00m\u001b[34;01m.\u001b[39;00m\u001b[34;01mclient\u001b[39;00m\u001b[38;5;250m \u001b[39m\u001b[38;5;28;01mimport\u001b[39;00m Client\n\u001b[32m      5\u001b[39m \u001b[38;5;66;03m# Initialize Binance API client\u001b[39;00m\n\u001b[32m      6\u001b[39m api_key = \u001b[33m'\u001b[39m\u001b[33myour_api_key\u001b[39m\u001b[33m'\u001b[39m\n",
            "\u001b[31mModuleNotFoundError\u001b[39m: No module named 'binance'"
          ]
        }
      ],
      "source": [
        "import numpy as np\n",
        "import pandas as pd\n",
        "from binance.client import Client\n",
        "\n",
        "# Initialize Binance API client\n",
        "api_key = 'your_api_key'\n",
        "api_secret = 'your_api_secret'\n",
        "client = Client(api_key, api_secret)\n",
        "\n",
        "# Function to fetch order book data from Binance\n",
        "def fetch_order_book(symbol='BTCUSDT', limit=100):\n",
        "    order_book = client.get_order_book(symbol=symbol, limit=limit)\n",
        "    bids = pd.DataFrame(order_book['bids'], columns=['price', 'quantity'], dtype=float)\n",
        "    asks = pd.DataFrame(order_book['asks'], columns=['price', 'quantity'], dtype=float)\n",
        "    return bids, asks\n",
        "\n",
        "# Function to analyze bid-ask spread\n",
        "def analyze_bid_ask_spread(bids, asks):\n",
        "    best_bid = bids['price'].max()\n",
        "    best_ask = asks['price'].min()\n",
        "    spread = best_ask - best_bid\n",
        "    return spread\n",
        "\n",
        "# Function to analyze order book depth\n",
        "def analyze_order_book_depth(bids, asks, depth=10):\n",
        "    total_bid_size = bids.head(depth)['quantity'].sum()\n",
        "    total_ask_size = asks.head(depth)['quantity'].sum()\n",
        "    return {'total_bid_size': total_bid_size, 'total_ask_size': total_ask_size}\n",
        "\n",
        "# Function to detect iceberg orders\n",
        "def detect_iceberg_orders(order_book, threshold=100):\n",
        "    \"\"\"\n",
        "    Detects iceberg orders by tracking suspiciously large trades broken into small parts.\n",
        "    \n",
        "    Parameters:\n",
        "    order_book (pd.DataFrame): DataFrame containing order book data with 'price' and 'quantity' columns.\n",
        "    threshold (int): The size threshold to consider for detecting iceberg orders.\n",
        "    \n",
        "    Returns:\n",
        "    pd.DataFrame: DataFrame containing detected iceberg orders.\n",
        "    \"\"\"\n",
        "    iceberg_orders = order_book[order_book['quantity'] > threshold]\n",
        "    return iceberg_orders\n",
        "\n",
        "# Fetch order book data\n",
        "bids, asks = fetch_order_book()\n",
        "\n",
        "# Analyze bid-ask spread\n",
        "spread = analyze_bid_ask_spread(bids, asks)\n",
        "print(f\"Bid-Ask Spread: {spread}\")\n",
        "\n",
        "# Analyze order book depth\n",
        "depth_analysis = analyze_order_book_depth(bids, asks, depth=10)\n",
        "print(f\"Order Book Depth: {depth_analysis}\")\n",
        "\n",
        "# Detect iceberg orders\n",
        "order_book = pd.concat([bids, asks])\n",
        "iceberg_orders = detect_iceberg_orders(order_book, threshold=10)\n",
        "print(\"Detected Iceberg Orders:\")\n",
        "print(iceberg_orders)"
      ]
    }
  ],
  "metadata": {
    "colab": {
      "include_colab_link": true,
      "provenance": []
    },
    "kernelspec": {
      "display_name": "Python 3",
      "language": "python",
      "name": "python3"
    },
    "language_info": {
      "codemirror_mode": {
        "name": "ipython",
        "version": 3
      },
      "file_extension": ".py",
      "mimetype": "text/x-python",
      "name": "python",
      "nbconvert_exporter": "python",
      "pygments_lexer": "ipython3",
      "version": "3.13.1"
    }
  },
  "nbformat": 4,
  "nbformat_minor": 0
}
