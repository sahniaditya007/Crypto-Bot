{
  "cells": [
    {
      "cell_type": "markdown",
      "metadata": {
        "colab_type": "text",
        "id": "view-in-github"
      },
      "source": [
        "<a href=\"https://colab.research.google.com/github/sahniaditya007/Crypto-Bot/blob/main/sentiment.ipynb\" target=\"_parent\"><img src=\"https://colab.research.google.com/assets/colab-badge.svg\" alt=\"Open In Colab\"/></a>"
      ]
    },
    {
      "cell_type": "code",
      "execution_count": 2,
      "metadata": {},
      "outputs": [
        {
          "ename": "JSONDecodeError",
          "evalue": "Expecting value: line 1 column 3 (char 2)",
          "output_type": "error",
          "traceback": [
            "\u001b[31m---------------------------------------------------------------------------\u001b[39m",
            "\u001b[31mJSONDecodeError\u001b[39m                           Traceback (most recent call last)",
            "\u001b[36mFile \u001b[39m\u001b[32m~\\AppData\\Roaming\\Python\\Python313\\site-packages\\requests\\models.py:974\u001b[39m, in \u001b[36mResponse.json\u001b[39m\u001b[34m(self, **kwargs)\u001b[39m\n\u001b[32m    973\u001b[39m \u001b[38;5;28;01mtry\u001b[39;00m:\n\u001b[32m--> \u001b[39m\u001b[32m974\u001b[39m     \u001b[38;5;28;01mreturn\u001b[39;00m \u001b[43mcomplexjson\u001b[49m\u001b[43m.\u001b[49m\u001b[43mloads\u001b[49m\u001b[43m(\u001b[49m\u001b[38;5;28;43mself\u001b[39;49m\u001b[43m.\u001b[49m\u001b[43mtext\u001b[49m\u001b[43m,\u001b[49m\u001b[43m \u001b[49m\u001b[43m*\u001b[49m\u001b[43m*\u001b[49m\u001b[43mkwargs\u001b[49m\u001b[43m)\u001b[49m\n\u001b[32m    975\u001b[39m \u001b[38;5;28;01mexcept\u001b[39;00m JSONDecodeError \u001b[38;5;28;01mas\u001b[39;00m e:\n\u001b[32m    976\u001b[39m     \u001b[38;5;66;03m# Catch JSON-related errors and raise as requests.JSONDecodeError\u001b[39;00m\n\u001b[32m    977\u001b[39m     \u001b[38;5;66;03m# This aliases json.JSONDecodeError and simplejson.JSONDecodeError\u001b[39;00m\n",
            "\u001b[36mFile \u001b[39m\u001b[32mc:\\Python313\\Lib\\json\\__init__.py:346\u001b[39m, in \u001b[36mloads\u001b[39m\u001b[34m(s, cls, object_hook, parse_float, parse_int, parse_constant, object_pairs_hook, **kw)\u001b[39m\n\u001b[32m    343\u001b[39m \u001b[38;5;28;01mif\u001b[39;00m (\u001b[38;5;28mcls\u001b[39m \u001b[38;5;129;01mis\u001b[39;00m \u001b[38;5;28;01mNone\u001b[39;00m \u001b[38;5;129;01mand\u001b[39;00m object_hook \u001b[38;5;129;01mis\u001b[39;00m \u001b[38;5;28;01mNone\u001b[39;00m \u001b[38;5;129;01mand\u001b[39;00m\n\u001b[32m    344\u001b[39m         parse_int \u001b[38;5;129;01mis\u001b[39;00m \u001b[38;5;28;01mNone\u001b[39;00m \u001b[38;5;129;01mand\u001b[39;00m parse_float \u001b[38;5;129;01mis\u001b[39;00m \u001b[38;5;28;01mNone\u001b[39;00m \u001b[38;5;129;01mand\u001b[39;00m\n\u001b[32m    345\u001b[39m         parse_constant \u001b[38;5;129;01mis\u001b[39;00m \u001b[38;5;28;01mNone\u001b[39;00m \u001b[38;5;129;01mand\u001b[39;00m object_pairs_hook \u001b[38;5;129;01mis\u001b[39;00m \u001b[38;5;28;01mNone\u001b[39;00m \u001b[38;5;129;01mand\u001b[39;00m \u001b[38;5;129;01mnot\u001b[39;00m kw):\n\u001b[32m--> \u001b[39m\u001b[32m346\u001b[39m     \u001b[38;5;28;01mreturn\u001b[39;00m \u001b[43m_default_decoder\u001b[49m\u001b[43m.\u001b[49m\u001b[43mdecode\u001b[49m\u001b[43m(\u001b[49m\u001b[43ms\u001b[49m\u001b[43m)\u001b[49m\n\u001b[32m    347\u001b[39m \u001b[38;5;28;01mif\u001b[39;00m \u001b[38;5;28mcls\u001b[39m \u001b[38;5;129;01mis\u001b[39;00m \u001b[38;5;28;01mNone\u001b[39;00m:\n",
            "\u001b[36mFile \u001b[39m\u001b[32mc:\\Python313\\Lib\\json\\decoder.py:345\u001b[39m, in \u001b[36mJSONDecoder.decode\u001b[39m\u001b[34m(self, s, _w)\u001b[39m\n\u001b[32m    341\u001b[39m \u001b[38;5;250m\u001b[39m\u001b[33;03m\"\"\"Return the Python representation of ``s`` (a ``str`` instance\u001b[39;00m\n\u001b[32m    342\u001b[39m \u001b[33;03mcontaining a JSON document).\u001b[39;00m\n\u001b[32m    343\u001b[39m \n\u001b[32m    344\u001b[39m \u001b[33;03m\"\"\"\u001b[39;00m\n\u001b[32m--> \u001b[39m\u001b[32m345\u001b[39m obj, end = \u001b[38;5;28;43mself\u001b[39;49m\u001b[43m.\u001b[49m\u001b[43mraw_decode\u001b[49m\u001b[43m(\u001b[49m\u001b[43ms\u001b[49m\u001b[43m,\u001b[49m\u001b[43m \u001b[49m\u001b[43midx\u001b[49m\u001b[43m=\u001b[49m\u001b[43m_w\u001b[49m\u001b[43m(\u001b[49m\u001b[43ms\u001b[49m\u001b[43m,\u001b[49m\u001b[43m \u001b[49m\u001b[32;43m0\u001b[39;49m\u001b[43m)\u001b[49m\u001b[43m.\u001b[49m\u001b[43mend\u001b[49m\u001b[43m(\u001b[49m\u001b[43m)\u001b[49m\u001b[43m)\u001b[49m\n\u001b[32m    346\u001b[39m end = _w(s, end).end()\n",
            "\u001b[36mFile \u001b[39m\u001b[32mc:\\Python313\\Lib\\json\\decoder.py:363\u001b[39m, in \u001b[36mJSONDecoder.raw_decode\u001b[39m\u001b[34m(self, s, idx)\u001b[39m\n\u001b[32m    362\u001b[39m \u001b[38;5;28;01mexcept\u001b[39;00m \u001b[38;5;167;01mStopIteration\u001b[39;00m \u001b[38;5;28;01mas\u001b[39;00m err:\n\u001b[32m--> \u001b[39m\u001b[32m363\u001b[39m     \u001b[38;5;28;01mraise\u001b[39;00m JSONDecodeError(\u001b[33m\"\u001b[39m\u001b[33mExpecting value\u001b[39m\u001b[33m\"\u001b[39m, s, err.value) \u001b[38;5;28;01mfrom\u001b[39;00m\u001b[38;5;250m \u001b[39m\u001b[38;5;28;01mNone\u001b[39;00m\n\u001b[32m    364\u001b[39m \u001b[38;5;28;01mreturn\u001b[39;00m obj, end\n",
            "\u001b[31mJSONDecodeError\u001b[39m: Expecting value: line 1 column 3 (char 2)",
            "\nDuring handling of the above exception, another exception occurred:\n",
            "\u001b[31mJSONDecodeError\u001b[39m                           Traceback (most recent call last)",
            "\u001b[36mCell\u001b[39m\u001b[36m \u001b[39m\u001b[32mIn[2]\u001b[39m\u001b[32m, line 72\u001b[39m\n\u001b[32m     69\u001b[39m     \u001b[38;5;28;01mreturn\u001b[39;00m data\n\u001b[32m     71\u001b[39m \u001b[38;5;28;01mif\u001b[39;00m \u001b[34m__name__\u001b[39m == \u001b[33m\"\u001b[39m\u001b[33m__main__\u001b[39m\u001b[33m\"\u001b[39m:\n\u001b[32m---> \u001b[39m\u001b[32m72\u001b[39m     result = \u001b[43mcollect_all_data\u001b[49m\u001b[43m(\u001b[49m\u001b[43m)\u001b[49m\n\u001b[32m     73\u001b[39m     \u001b[38;5;28mprint\u001b[39m(result)\n",
            "\u001b[36mCell\u001b[39m\u001b[36m \u001b[39m\u001b[32mIn[2]\u001b[39m\u001b[32m, line 67\u001b[39m, in \u001b[36mcollect_all_data\u001b[39m\u001b[34m(query)\u001b[39m\n\u001b[32m     59\u001b[39m \u001b[38;5;28;01mdef\u001b[39;00m\u001b[38;5;250m \u001b[39m\u001b[34mcollect_all_data\u001b[39m(query=\u001b[33m\"\u001b[39m\u001b[33mBitcoin\u001b[39m\u001b[33m\"\u001b[39m):\n\u001b[32m     60\u001b[39m     data = {\n\u001b[32m     61\u001b[39m         \u001b[33m\"\u001b[39m\u001b[33mgoogle_news\u001b[39m\u001b[33m\"\u001b[39m: fetch_google_news(query),\n\u001b[32m     62\u001b[39m         \u001b[33m\"\u001b[39m\u001b[33mcrypto_news\u001b[39m\u001b[33m\"\u001b[39m: fetch_cryptocompare_news(),\n\u001b[32m     63\u001b[39m         \u001b[33m\"\u001b[39m\u001b[33mmarket_data\u001b[39m\u001b[33m\"\u001b[39m: fetch_coingecko_market_data(),\n\u001b[32m     64\u001b[39m         \u001b[33m\"\u001b[39m\u001b[33mbinance_data\u001b[39m\u001b[33m\"\u001b[39m: fetch_binance_market_data(),\n\u001b[32m     65\u001b[39m         \u001b[33m\"\u001b[39m\u001b[33mtwitter_sentiment\u001b[39m\u001b[33m\"\u001b[39m: fetch_twitter_sentiment(query),\n\u001b[32m     66\u001b[39m         \u001b[33m\"\u001b[39m\u001b[33mgovernment_news\u001b[39m\u001b[33m\"\u001b[39m: fetch_government_news(),\n\u001b[32m---> \u001b[39m\u001b[32m67\u001b[39m         \u001b[33m\"\u001b[39m\u001b[33mimf_releases\u001b[39m\u001b[33m\"\u001b[39m: \u001b[43mfetch_imf_releases\u001b[49m\u001b[43m(\u001b[49m\u001b[43m)\u001b[49m\n\u001b[32m     68\u001b[39m     }\n\u001b[32m     69\u001b[39m     \u001b[38;5;28;01mreturn\u001b[39;00m data\n",
            "\u001b[36mCell\u001b[39m\u001b[36m \u001b[39m\u001b[32mIn[2]\u001b[39m\u001b[32m, line 56\u001b[39m, in \u001b[36mfetch_imf_releases\u001b[39m\u001b[34m()\u001b[39m\n\u001b[32m     54\u001b[39m url = \u001b[33m\"\u001b[39m\u001b[33mhttps://www.imf.org/en/News/API\u001b[39m\u001b[33m\"\u001b[39m\n\u001b[32m     55\u001b[39m response = requests.get(url)\n\u001b[32m---> \u001b[39m\u001b[32m56\u001b[39m \u001b[38;5;28;01mreturn\u001b[39;00m \u001b[43mresponse\u001b[49m\u001b[43m.\u001b[49m\u001b[43mjson\u001b[49m\u001b[43m(\u001b[49m\u001b[43m)\u001b[49m\n",
            "\u001b[36mFile \u001b[39m\u001b[32m~\\AppData\\Roaming\\Python\\Python313\\site-packages\\requests\\models.py:978\u001b[39m, in \u001b[36mResponse.json\u001b[39m\u001b[34m(self, **kwargs)\u001b[39m\n\u001b[32m    974\u001b[39m     \u001b[38;5;28;01mreturn\u001b[39;00m complexjson.loads(\u001b[38;5;28mself\u001b[39m.text, **kwargs)\n\u001b[32m    975\u001b[39m \u001b[38;5;28;01mexcept\u001b[39;00m JSONDecodeError \u001b[38;5;28;01mas\u001b[39;00m e:\n\u001b[32m    976\u001b[39m     \u001b[38;5;66;03m# Catch JSON-related errors and raise as requests.JSONDecodeError\u001b[39;00m\n\u001b[32m    977\u001b[39m     \u001b[38;5;66;03m# This aliases json.JSONDecodeError and simplejson.JSONDecodeError\u001b[39;00m\n\u001b[32m--> \u001b[39m\u001b[32m978\u001b[39m     \u001b[38;5;28;01mraise\u001b[39;00m RequestsJSONDecodeError(e.msg, e.doc, e.pos)\n",
            "\u001b[31mJSONDecodeError\u001b[39m: Expecting value: line 1 column 3 (char 2)"
          ]
        }
      ],
      "source": [
        "# utils/data_collection.py\n",
        "import requests\n",
        "import os\n",
        "from dotenv import load_dotenv\n",
        "\n",
        "load_dotenv()\n",
        "\n",
        "# API Keys from env file\n",
        "GOOGLE_NEWS_API_KEY = os.getenv(\"GOOGLE_NEWS_API_KEY\")\n",
        "CRYPTOCOMPARE_API_KEY = os.getenv(\"CRYPTOCOMPARE_API_KEY\")\n",
        "COINGECKO_API_KEY = os.getenv(\"COINGECKO_API_KEY\")\n",
        "BINANCE_API_KEY = os.getenv(\"BINANCE_API_KEY\")\n",
        "TWITTER_BEARER_TOKEN = os.getenv(\"TWITTER_BEARER_TOKEN\")\n",
        "\n",
        "\n",
        "def fetch_google_news(query):\n",
        "    url = f\"https://newsapi.org/v2/everything?q={query}&apiKey={GOOGLE_NEWS_API_KEY}\"\n",
        "    response = requests.get(url)\n",
        "    return response.json()\n",
        "\n",
        "\n",
        "def fetch_cryptocompare_news():\n",
        "    url = f\"https://min-api.cryptocompare.com/data/v2/news/?lang=EN&api_key={CRYPTOCOMPARE_API_KEY}\"\n",
        "    response = requests.get(url)\n",
        "    return response.json()\n",
        "\n",
        "\n",
        "def fetch_coingecko_market_data():\n",
        "    url = f\"https://api.coingecko.com/api/v3/global\" \n",
        "    response = requests.get(url)\n",
        "    return response.json()\n",
        "\n",
        "\n",
        "def fetch_binance_market_data(symbol='BTCUSDT'):\n",
        "    url = f\"https://api.binance.com/api/v3/ticker/24hr?symbol={symbol}\" \n",
        "    response = requests.get(url)\n",
        "    return response.json()\n",
        "\n",
        "\n",
        "def fetch_twitter_sentiment(keyword):\n",
        "    url = f\"https://api.twitter.com/2/tweets/search/recent?query={keyword}\"\n",
        "    headers = {\"Authorization\": f\"Bearer {TWITTER_BEARER_TOKEN}\"}\n",
        "    response = requests.get(url, headers=headers)\n",
        "    return response.json()\n",
        "\n",
        "\n",
        "def fetch_government_news():\n",
        "    url = \"https://www.sec.gov/news/press.xml\"\n",
        "    response = requests.get(url)\n",
        "    return response.text\n",
        "\n",
        "\n",
        "def fetch_imf_releases():\n",
        "    url = \"https://www.imf.org/en/News/API\"\n",
        "    response = requests.get(url)\n",
        "    return response.json()\n",
        "\n",
        "\n",
        "def collect_all_data(query=\"Bitcoin\"):\n",
        "    data = {\n",
        "        \"google_news\": fetch_google_news(query),\n",
        "        \"crypto_news\": fetch_cryptocompare_news(),\n",
        "        \"market_data\": fetch_coingecko_market_data(),\n",
        "        \"binance_data\": fetch_binance_market_data(),\n",
        "        \"twitter_sentiment\": fetch_twitter_sentiment(query),\n",
        "        \"government_news\": fetch_government_news(),\n",
        "        \"imf_releases\": fetch_imf_releases()\n",
        "    }\n",
        "    return data\n",
        "\n",
        "if __name__ == \"__main__\":\n",
        "    result = collect_all_data()\n",
        "    print(result)\n"
      ]
    }
  ],
  "metadata": {
    "colab": {
      "include_colab_link": true,
      "provenance": []
    },
    "kernelspec": {
      "display_name": "Python 3",
      "language": "python",
      "name": "python3"
    },
    "language_info": {
      "codemirror_mode": {
        "name": "ipython",
        "version": 3
      },
      "file_extension": ".py",
      "mimetype": "text/x-python",
      "name": "python",
      "nbconvert_exporter": "python",
      "pygments_lexer": "ipython3",
      "version": "3.13.1"
    }
  },
  "nbformat": 4,
  "nbformat_minor": 0
}
